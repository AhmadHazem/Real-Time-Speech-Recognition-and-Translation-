{
 "cells": [
  {
   "cell_type": "code",
   "execution_count": 2,
   "metadata": {},
   "outputs": [],
   "source": [
    "# Structred Data\n",
    "import numpy as np\n",
    "import pandas as pd\n",
    "import torch\n",
    "\n",
    "# System Libraries\n",
    "import os\n",
    "import librosa\n",
    "import librosa.display\n",
    "import soundfile as sf\n",
    "\n",
    "# Garbage Collection\n",
    "import gc\n",
    "\n",
    "# Visualization\n",
    "from IPython.display import Audio, display\n",
    "import matplotlib.pyplot as plt"
   ]
  },
  {
   "cell_type": "markdown",
   "metadata": {},
   "source": [
    "#### Set Paths"
   ]
  },
  {
   "cell_type": "code",
   "execution_count": 3,
   "metadata": {},
   "outputs": [
    {
     "name": "stdout",
     "output_type": "stream",
     "text": [
      "d:\\ML\\Real-Time-Speech-Recognition-and-Translation-\n"
     ]
    }
   ],
   "source": [
    "%cd ..\n",
    "DIRECTORY_PATH = os.getcwd()"
   ]
  },
  {
   "cell_type": "code",
   "execution_count": 4,
   "metadata": {},
   "outputs": [],
   "source": [
    "VALIDATED_DATA_PATH = r\"\\Common_Voice\\validated.tsv\"\n",
    "VALIDATED_SENTENCES_PATH = r\"\\Common_Voice\\unvalidated_sentences.tsv\"\n",
    "CLIP_DURATION_PATH = r\"\\Common_Voice\\clip_durations.tsv\"\n",
    "CLIPS_PATH = r\"\\Common_Voice\\clips\\\\\"\n",
    "CLIPS_WAV_PATH = r\"\\Common_Voice\\clips_wav\""
   ]
  },
  {
   "cell_type": "markdown",
   "metadata": {},
   "source": [
    "#### Read VALIDATED TSV files"
   ]
  },
  {
   "cell_type": "code",
   "execution_count": 5,
   "metadata": {},
   "outputs": [
    {
     "data": {
      "text/html": [
       "<div>\n",
       "<style scoped>\n",
       "    .dataframe tbody tr th:only-of-type {\n",
       "        vertical-align: middle;\n",
       "    }\n",
       "\n",
       "    .dataframe tbody tr th {\n",
       "        vertical-align: top;\n",
       "    }\n",
       "\n",
       "    .dataframe thead th {\n",
       "        text-align: right;\n",
       "    }\n",
       "</style>\n",
       "<table border=\"1\" class=\"dataframe\">\n",
       "  <thead>\n",
       "    <tr style=\"text-align: right;\">\n",
       "      <th></th>\n",
       "      <th>path</th>\n",
       "      <th>sentence</th>\n",
       "      <th>up_votes</th>\n",
       "    </tr>\n",
       "  </thead>\n",
       "  <tbody>\n",
       "    <tr>\n",
       "      <th>0</th>\n",
       "      <td>common_voice_en_40353084.mp3</td>\n",
       "      <td>She hides her grief and joins in the homecomin...</td>\n",
       "      <td>2</td>\n",
       "    </tr>\n",
       "    <tr>\n",
       "      <th>1</th>\n",
       "      <td>common_voice_en_40632268.mp3</td>\n",
       "      <td>Proksch stayed at the palace of his personal f...</td>\n",
       "      <td>4</td>\n",
       "    </tr>\n",
       "    <tr>\n",
       "      <th>2</th>\n",
       "      <td>common_voice_en_40613175.mp3</td>\n",
       "      <td>She had an uneventful career.</td>\n",
       "      <td>3</td>\n",
       "    </tr>\n",
       "    <tr>\n",
       "      <th>3</th>\n",
       "      <td>common_voice_en_40434934.mp3</td>\n",
       "      <td>Let's eat the chocolate tonight.</td>\n",
       "      <td>2</td>\n",
       "    </tr>\n",
       "    <tr>\n",
       "      <th>4</th>\n",
       "      <td>common_voice_en_40401859.mp3</td>\n",
       "      <td>Newport was a county borough.</td>\n",
       "      <td>2</td>\n",
       "    </tr>\n",
       "  </tbody>\n",
       "</table>\n",
       "</div>"
      ],
      "text/plain": [
       "                           path   \n",
       "0  common_voice_en_40353084.mp3  \\\n",
       "1  common_voice_en_40632268.mp3   \n",
       "2  common_voice_en_40613175.mp3   \n",
       "3  common_voice_en_40434934.mp3   \n",
       "4  common_voice_en_40401859.mp3   \n",
       "\n",
       "                                            sentence  up_votes  \n",
       "0  She hides her grief and joins in the homecomin...         2  \n",
       "1  Proksch stayed at the palace of his personal f...         4  \n",
       "2                      She had an uneventful career.         3  \n",
       "3                   Let's eat the chocolate tonight.         2  \n",
       "4                      Newport was a county borough.         2  "
      ]
     },
     "metadata": {},
     "output_type": "display_data"
    }
   ],
   "source": [
    "cv_dataset_unfiltered = pd.read_csv(DIRECTORY_PATH + VALIDATED_DATA_PATH , sep='\\t')[[\"path\", \"sentence\", \"up_votes\"]]\n",
    "display(cv_dataset_unfiltered.head())"
   ]
  },
  {
   "cell_type": "code",
   "execution_count": 6,
   "metadata": {},
   "outputs": [
    {
     "data": {
      "text/html": [
       "<div>\n",
       "<style scoped>\n",
       "    .dataframe tbody tr th:only-of-type {\n",
       "        vertical-align: middle;\n",
       "    }\n",
       "\n",
       "    .dataframe tbody tr th {\n",
       "        vertical-align: top;\n",
       "    }\n",
       "\n",
       "    .dataframe thead th {\n",
       "        text-align: right;\n",
       "    }\n",
       "</style>\n",
       "<table border=\"1\" class=\"dataframe\">\n",
       "  <thead>\n",
       "    <tr style=\"text-align: right;\">\n",
       "      <th></th>\n",
       "      <th>duration[ms]</th>\n",
       "      <th>path</th>\n",
       "      <th>sentence</th>\n",
       "      <th>up_votes</th>\n",
       "    </tr>\n",
       "  </thead>\n",
       "  <tbody>\n",
       "    <tr>\n",
       "      <th>0</th>\n",
       "      <td>2880.0</td>\n",
       "      <td>common_voice_en_40353084.mp3</td>\n",
       "      <td>She hides her grief and joins in the homecomin...</td>\n",
       "      <td>2</td>\n",
       "    </tr>\n",
       "    <tr>\n",
       "      <th>1</th>\n",
       "      <td>9252.0</td>\n",
       "      <td>common_voice_en_40632268.mp3</td>\n",
       "      <td>Proksch stayed at the palace of his personal f...</td>\n",
       "      <td>4</td>\n",
       "    </tr>\n",
       "    <tr>\n",
       "      <th>2</th>\n",
       "      <td>3960.0</td>\n",
       "      <td>common_voice_en_40613175.mp3</td>\n",
       "      <td>She had an uneventful career.</td>\n",
       "      <td>3</td>\n",
       "    </tr>\n",
       "    <tr>\n",
       "      <th>3</th>\n",
       "      <td>3708.0</td>\n",
       "      <td>common_voice_en_40434934.mp3</td>\n",
       "      <td>Let's eat the chocolate tonight.</td>\n",
       "      <td>2</td>\n",
       "    </tr>\n",
       "    <tr>\n",
       "      <th>4</th>\n",
       "      <td>3600.0</td>\n",
       "      <td>common_voice_en_40401859.mp3</td>\n",
       "      <td>Newport was a county borough.</td>\n",
       "      <td>2</td>\n",
       "    </tr>\n",
       "  </tbody>\n",
       "</table>\n",
       "</div>"
      ],
      "text/plain": [
       "   duration[ms]                          path   \n",
       "0        2880.0  common_voice_en_40353084.mp3  \\\n",
       "1        9252.0  common_voice_en_40632268.mp3   \n",
       "2        3960.0  common_voice_en_40613175.mp3   \n",
       "3        3708.0  common_voice_en_40434934.mp3   \n",
       "4        3600.0  common_voice_en_40401859.mp3   \n",
       "\n",
       "                                            sentence  up_votes  \n",
       "0  She hides her grief and joins in the homecomin...         2  \n",
       "1  Proksch stayed at the palace of his personal f...         4  \n",
       "2                      She had an uneventful career.         3  \n",
       "3                   Let's eat the chocolate tonight.         2  \n",
       "4                      Newport was a county borough.         2  "
      ]
     },
     "metadata": {},
     "output_type": "display_data"
    },
    {
     "name": "stdout",
     "output_type": "stream",
     "text": [
      "Longest Audio Duration: 10656.0ms\n",
      "Path of Longest Audio: d:\\ML\\Real-Time-Speech-Recognition-and-Translation-\\Common_Voice\\clips\\\\common_voice_en_40191947.mp3\n",
      "Sentence of Audio Clips: The Allen area was previously home to the Caddo, Comanche, and other indigenous peoples.\n",
      "Frame Length of Longest Audio: 234965\n"
     ]
    }
   ],
   "source": [
    "valid_clips_duration = pd.read_csv(DIRECTORY_PATH + CLIP_DURATION_PATH , sep='\\t').join(other = cv_dataset_unfiltered, lsuffix=\"clip\", rsuffix=\"path\", how=\"inner\").drop(columns=[\"clip\"])\n",
    "# Correct Duration of Audios\n",
    "for i,path in enumerate(valid_clips_duration[\"path\"]):\n",
    "    path = DIRECTORY_PATH + CLIPS_PATH + path\n",
    "    audio, sr = librosa.load(path, sr=None)\n",
    "    valid_clips_duration.at[i , \"duration[ms]\"] = librosa.get_duration(y=audio, sr=sr)*1000\n",
    "\n",
    "#Get Longest Audio Clip\n",
    "MAX_AUDIO_DURATION = max(valid_clips_duration[\"duration[ms]\"])\n",
    "LongestAudio = valid_clips_duration[valid_clips_duration['duration[ms]'] == MAX_AUDIO_DURATION]\n",
    "PATH_OF_LONGEST_AUDIO = DIRECTORY_PATH + CLIPS_PATH + LongestAudio[\"path\"].values[0]\n",
    "SENTENCE_OF_LONGEST_AUDIO = LongestAudio[\"sentence\"].values[0]\n",
    "\n",
    "# Load Audio\n",
    "wavform, sample_rate = librosa.load(PATH_OF_LONGEST_AUDIO)\n",
    "FRAME_LENGTH_OF_LONGEST_AUDIO = len(wavform)\n",
    "\n",
    "#print information of Longest Audio\n",
    "display(valid_clips_duration.head())\n",
    "print(f\"Longest Audio Duration: {MAX_AUDIO_DURATION}ms\")\n",
    "print(f\"Path of Longest Audio: {PATH_OF_LONGEST_AUDIO}\")\n",
    "print(f\"Sentence of Audio Clips: {SENTENCE_OF_LONGEST_AUDIO}\")\n",
    "print(f\"Frame Length of Longest Audio: {FRAME_LENGTH_OF_LONGEST_AUDIO}\")"
   ]
  },
  {
   "cell_type": "code",
   "execution_count": 25,
   "metadata": {},
   "outputs": [
    {
     "data": {
      "image/png": "[encoded data removed]",
      "text/plain": [
       "<Figure size 1000x1000 with 2 Axes>"
      ]
     },
     "metadata": {},
     "output_type": "display_data"
    }
   ],
   "source": [
    "wav1 , sr = librosa.load(DIRECTORY_PATH + CLIPS_PATH + valid_clips_duration[\"path\"].values[0])\n",
    "mfccs1 = librosa.feature.mfcc(y=wav1, n_mfcc=13, sr=sr, n_fft=2048, hop_length=512)\n",
    "wav2 , sr = librosa.load(DIRECTORY_PATH + CLIPS_PATH + valid_clips_duration[\"path\"].values[1])\n",
    "mfccs2 = librosa.feature.mfcc(y=wav2, n_mfcc=13, sr=sr, n_fft=2048, hop_length=512)\n",
    "\n",
    "fig, ax = plt.subplots(2, 1, figsize=(10, 10))\n",
    "librosa.display.specshow(mfccs1, x_axis='time', ax=ax[0])\n",
    "ax[0].set(title='MFCC1')\n",
    "librosa.display.specshow(mfccs2, x_axis='time', ax=ax[1])\n",
    "ax[1].set(title='MFCC2')\n",
    "plt.show()"
   ]
  },
  {
   "cell_type": "code",
   "execution_count": 72,
   "metadata": {},
   "outputs": [
    {
     "name": "stdout",
     "output_type": "stream",
     "text": [
      "here\n"
     ]
    }
   ],
   "source": [
    "# Add Padding\n",
    "MAXPADDING = FRAME_LENGTH_OF_LONGEST_AUDIO\n",
    "for path in valid_clips_duration[\"path\"].tolist():\n",
    "    wavform, sr = librosa.load(DIRECTORY_PATH + CLIPS_PATH + path)\n",
    "    padding = [0] * (MAXPADDING - len(wavform))\n",
    "    wavform = np.concatenate((wavform, padding))\n",
    "    sf.write(DIRECTORY_PATH + CLIPS_WAV_PATH + \"\\\\\" + path[:-4] + \".wav\", wavform, sr, format='wav')\n"
   ]
  }
 ],
 "metadata": {
  "kernelspec": {
   "display_name": "Python 3",
   "language": "python",
   "name": "python3"
  },
  "language_info": {
   "codemirror_mode": {
    "name": "ipython",
    "version": 3
   },
   "file_extension": ".py",
   "mimetype": "text/x-python",
   "name": "python",
   "nbconvert_exporter": "python",
   "pygments_lexer": "ipython3",
   "version": "3.9.5"
  }
 },
 "nbformat": 4,
 "nbformat_minor": 2
}
