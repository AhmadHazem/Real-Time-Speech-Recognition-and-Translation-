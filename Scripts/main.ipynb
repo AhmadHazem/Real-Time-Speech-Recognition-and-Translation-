{
 "cells": [
  {
   "cell_type": "code",
   "execution_count": 76,
   "metadata": {},
   "outputs": [],
   "source": [
    "# Structred Data\n",
    "import numpy as np\n",
    "import pandas as pd\n",
    "import torch\n",
    "import pickle\n",
    "\n",
    "# System Libraries\n",
    "import os\n",
    "import librosa\n",
    "import soundfile as sf\n",
    "import nltk\n",
    "\n",
    "# Garbage Collection\n",
    "import gc\n",
    "\n",
    "# Visualization\n",
    "from IPython.display import Audio, display\n",
    "import matplotlib.pyplot as plt\n",
    "\n",
    "# Whisper Model\n",
    "from transformers import AutoModelForSpeechSeq2Seq, AutoProcessor, pipeline\n",
    "from datasets import load_dataset"
   ]
  },
  {
   "cell_type": "markdown",
   "metadata": {},
   "source": [
    "#### Set Paths"
   ]
  },
  {
   "cell_type": "code",
   "execution_count": 2,
   "metadata": {},
   "outputs": [
    {
     "name": "stdout",
     "output_type": "stream",
     "text": [
      "d:\\ML\\Real-Time-Speech-Recognition-and-Translation-\n"
     ]
    }
   ],
   "source": [
    "%cd ..\n",
    "DIRECTORY_PATH = os.getcwd()"
   ]
  },
  {
   "cell_type": "code",
   "execution_count": 20,
   "metadata": {},
   "outputs": [],
   "source": [
    "# Paths\n",
    "VALIDATED_DATA_PATH = r\"\\Common_Voice\\validated.tsv\"\n",
    "VALIDATED_SENTENCES_PATH = r\"\\Common_Voice\\unvalidated_sentences.tsv\"\n",
    "CLIP_DURATION_PATH = r\"\\Common_Voice\\clip_durations.tsv\"\n",
    "CLIPS_PATH = r\"\\Common_Voice\\clips\\\\\"\n",
    "CLIPS_WAV_PATH = r\"\\Common_Voice\\clips_wav\\\\\"\n",
    "\n",
    "# Constants\n",
    "NYQUIST_SAMPLING_RATE = 16000"
   ]
  },
  {
   "cell_type": "code",
   "execution_count": 12,
   "metadata": {},
   "outputs": [
    {
     "name": "stdout",
     "output_type": "stream",
     "text": [
      "Using device: cuda:0\n"
     ]
    }
   ],
   "source": [
    "device = \"cuda:0\" if torch.cuda.is_available() else \"cpu\"\n",
    "torch_dtype = torch.float16 if torch.cuda.is_available() else torch.float32\n",
    "print(f\"Using device: {device}\")"
   ]
  },
  {
   "cell_type": "code",
   "execution_count": 13,
   "metadata": {},
   "outputs": [],
   "source": [
    "#Load Model\n",
    "model_id = \"openai/whisper-large-v3-turbo\"\n",
    "\n",
    "model = AutoModelForSpeechSeq2Seq.from_pretrained(\n",
    "    model_id, torch_dtype=torch_dtype, low_cpu_mem_usage=True, use_safetensors=True\n",
    ")\n",
    "model.to(device)\n",
    "\n",
    "processor = AutoProcessor.from_pretrained(model_id)\n",
    "\n",
    "\n",
    "pipe = pipeline(\n",
    "    \"automatic-speech-recognition\",\n",
    "    model=model,\n",
    "    tokenizer=processor.tokenizer,\n",
    "    feature_extractor=processor.feature_extractor,\n",
    "    torch_dtype=torch_dtype,\n",
    "    device=device,\n",
    ")"
   ]
  },
  {
   "cell_type": "code",
   "execution_count": 90,
   "metadata": {},
   "outputs": [],
   "source": [
    "def ConvertToWav(paths):\n",
    "    # Add Padding\n",
    "    for path in paths:\n",
    "        wavform, sr = librosa.load(DIRECTORY_PATH + CLIPS_PATH + path)\n",
    "        wavform = librosa.resample(wavform, orig_sr=sr, target_sr=NYQUIST_SAMPLING_RATE)\n",
    "        sf.write(DIRECTORY_PATH + CLIPS_WAV_PATH + path[:-4] + \".wav\", wavform, sr, format='wav')\n",
    "\n",
    "def getTokenizedSentences(sentences):\n",
    "    tokenized_sentence = processor.tokenizer.tokenize(sentences)   #False --> Word\n",
    "    return tokenized_sentence\n",
    "\n",
    "def TranscribeAudios(paths):\n",
    "    Transcribed_Sentences = pipe(paths)\n",
    "    return Transcribed_Sentences\n",
    "\n",
    "def fixPaths(paths):\n",
    "    new_paths = []\n",
    "    for path in paths:\n",
    "        new_paths.append( DIRECTORY_PATH + CLIPS_WAV_PATH + path[:-4] + \".wav\")\n",
    "    return new_paths\n",
    "\n",
    "def CalculateAvgBLEUScore(Transcribed_Sentences, Validated_Sentences, tokenizer):\n",
    "    BLEU_Scores = []\n",
    "    for i in range(len(Transcribed_Sentences)):\n",
    "        Valid_Sentence = tokenizer.tokenize(Validated_Sentences[i])\n",
    "        Transcribed_Sentence = tokenizer.tokenize(Transcribed_Sentences[i]['text'])\n",
    "        BLEU_Scores.append(nltk.translate.bleu_score.sentence_bleu([Valid_Sentence], Transcribed_Sentence))\n",
    "    return np.mean(BLEU_Scores)"
   ]
  },
  {
   "cell_type": "code",
   "execution_count": 88,
   "metadata": {},
   "outputs": [],
   "source": [
    "# AudioPreprocessing\n",
    "unfiltered_dataset = pd.read_csv(DIRECTORY_PATH + VALIDATED_DATA_PATH , sep='\\t')[[\"path\", \"sentence\", \"up_votes\"]]\n",
    "ConvertToWav(unfiltered_dataset[\"path\"].tolist())\n",
    "unfiltered_dataset[\"path\"] = fixPaths(unfiltered_dataset[\"path\"].tolist())"
   ]
  },
  {
   "cell_type": "code",
   "execution_count": 73,
   "metadata": {},
   "outputs": [
    {
     "name": "stderr",
     "output_type": "stream",
     "text": [
      "c:\\Users\\BLU-RAY\\AppData\\Local\\Programs\\Python\\Python39\\lib\\site-packages\\transformers\\models\\whisper\\generation_whisper.py:496: FutureWarning: The input name `inputs` is deprecated. Please make sure to use `input_features` instead.\n",
      "  warnings.warn(\n"
     ]
    }
   ],
   "source": [
    "# Transcribe\n",
    "Transcribed_Sentences = TranscribeAudios(unfiltered_dataset[\"path\"].tolist())\n",
    "Real_Sentences = unfiltered_dataset[\"sentence\"].tolist()"
   ]
  },
  {
   "cell_type": "code",
   "execution_count": 91,
   "metadata": {},
   "outputs": [
    {
     "name": "stderr",
     "output_type": "stream",
     "text": [
      "c:\\Users\\BLU-RAY\\AppData\\Local\\Programs\\Python\\Python39\\lib\\site-packages\\nltk\\translate\\bleu_score.py:577: UserWarning: \n",
      "The hypothesis contains 0 counts of 4-gram overlaps.\n",
      "Therefore the BLEU score evaluates to 0, independently of\n",
      "how many N-gram overlaps of lower order it contains.\n",
      "Consider using lower n-gram order or use SmoothingFunction()\n",
      "  warnings.warn(_msg)\n",
      "c:\\Users\\BLU-RAY\\AppData\\Local\\Programs\\Python\\Python39\\lib\\site-packages\\nltk\\translate\\bleu_score.py:577: UserWarning: \n",
      "The hypothesis contains 0 counts of 3-gram overlaps.\n",
      "Therefore the BLEU score evaluates to 0, independently of\n",
      "how many N-gram overlaps of lower order it contains.\n",
      "Consider using lower n-gram order or use SmoothingFunction()\n",
      "  warnings.warn(_msg)\n",
      "c:\\Users\\BLU-RAY\\AppData\\Local\\Programs\\Python\\Python39\\lib\\site-packages\\nltk\\translate\\bleu_score.py:577: UserWarning: \n",
      "The hypothesis contains 0 counts of 2-gram overlaps.\n",
      "Therefore the BLEU score evaluates to 0, independently of\n",
      "how many N-gram overlaps of lower order it contains.\n",
      "Consider using lower n-gram order or use SmoothingFunction()\n",
      "  warnings.warn(_msg)\n"
     ]
    },
    {
     "name": "stdout",
     "output_type": "stream",
     "text": [
      "BLEU Score: 0.6801078611053675\n"
     ]
    }
   ],
   "source": [
    "# Calculate BLEU Score\n",
    "BLEU_Score = CalculateAvgBLEUScore(Transcribed_Sentences, Real_Sentences, processor.tokenizer)\n",
    "print(f\"BLEU Score: {BLEU_Score}\")"
   ]
  },
  {
   "cell_type": "code",
   "execution_count": 63,
   "metadata": {},
   "outputs": [
    {
     "name": "stdout",
     "output_type": "stream",
     "text": [
      "1.0\n",
      "1.0\n"
     ]
    }
   ],
   "source": [
    "for i in range(2):\n",
    "    BLEUscore = nltk.translate.bleu_score.sentence_bleu([tokenized_real_Sentences[i]], tokenized_predicted_Sentences[i])\n",
    "    print(BLEUscore)"
   ]
  },
  {
   "cell_type": "code",
   "execution_count": 11,
   "metadata": {},
   "outputs": [
    {
     "data": {
      "text/html": [
       "<div>\n",
       "<style scoped>\n",
       "    .dataframe tbody tr th:only-of-type {\n",
       "        vertical-align: middle;\n",
       "    }\n",
       "\n",
       "    .dataframe tbody tr th {\n",
       "        vertical-align: top;\n",
       "    }\n",
       "\n",
       "    .dataframe thead th {\n",
       "        text-align: right;\n",
       "    }\n",
       "</style>\n",
       "<table border=\"1\" class=\"dataframe\">\n",
       "  <thead>\n",
       "    <tr style=\"text-align: right;\">\n",
       "      <th></th>\n",
       "      <th>path</th>\n",
       "      <th>sentence</th>\n",
       "      <th>up_votes</th>\n",
       "    </tr>\n",
       "  </thead>\n",
       "  <tbody>\n",
       "    <tr>\n",
       "      <th>0</th>\n",
       "      <td>common_voice_en_40353084.wav</td>\n",
       "      <td>She hides her grief and joins in the homecomin...</td>\n",
       "      <td>2</td>\n",
       "    </tr>\n",
       "    <tr>\n",
       "      <th>1</th>\n",
       "      <td>common_voice_en_40632268.wav</td>\n",
       "      <td>Proksch stayed at the palace of his personal f...</td>\n",
       "      <td>4</td>\n",
       "    </tr>\n",
       "    <tr>\n",
       "      <th>2</th>\n",
       "      <td>common_voice_en_40613175.wav</td>\n",
       "      <td>She had an uneventful career.</td>\n",
       "      <td>3</td>\n",
       "    </tr>\n",
       "    <tr>\n",
       "      <th>3</th>\n",
       "      <td>common_voice_en_40434934.wav</td>\n",
       "      <td>Let's eat the chocolate tonight.</td>\n",
       "      <td>2</td>\n",
       "    </tr>\n",
       "    <tr>\n",
       "      <th>4</th>\n",
       "      <td>common_voice_en_40401859.wav</td>\n",
       "      <td>Newport was a county borough.</td>\n",
       "      <td>2</td>\n",
       "    </tr>\n",
       "  </tbody>\n",
       "</table>\n",
       "</div>"
      ],
      "text/plain": [
       "                           path   \n",
       "0  common_voice_en_40353084.wav  \\\n",
       "1  common_voice_en_40632268.wav   \n",
       "2  common_voice_en_40613175.wav   \n",
       "3  common_voice_en_40434934.wav   \n",
       "4  common_voice_en_40401859.wav   \n",
       "\n",
       "                                            sentence  up_votes  \n",
       "0  She hides her grief and joins in the homecomin...         2  \n",
       "1  Proksch stayed at the palace of his personal f...         4  \n",
       "2                      She had an uneventful career.         3  \n",
       "3                   Let's eat the chocolate tonight.         2  \n",
       "4                      Newport was a county borough.         2  "
      ]
     },
     "metadata": {},
     "output_type": "display_data"
    }
   ],
   "source": [
    "display(unfiltered_dataset.head(5))"
   ]
  }
 ],
 "metadata": {
  "kernelspec": {
   "display_name": "Python 3",
   "language": "python",
   "name": "python3"
  },
  "language_info": {
   "codemirror_mode": {
    "name": "ipython",
    "version": 3
   },
   "file_extension": ".py",
   "mimetype": "text/x-python",
   "name": "python",
   "nbconvert_exporter": "python",
   "pygments_lexer": "ipython3",
   "version": "3.9.5"
  }
 },
 "nbformat": 4,
 "nbformat_minor": 2
}
