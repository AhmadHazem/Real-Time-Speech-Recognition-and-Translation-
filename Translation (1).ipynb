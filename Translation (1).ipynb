{
  "cells": [
    {
      "cell_type": "code",
      "execution_count": 9,
      "metadata": {
        "colab": {
          "base_uri": "https://localhost:8080/"
        },
        "id": "E2L8f8d_orQi",
        "outputId": "e6e23e2f-769f-44a8-b649-34cadca84dd7"
      },
      "outputs": [
        {
          "name": "stdout",
          "output_type": "stream",
          "text": [
            "[' She hides her grief and joins in the homecoming celebration.', ' Rokshik stayed at the palace of his personal friend, the dictator Fernandez Marcos.', ' She had an uneventful career.', \" Let's eat the chocolate tonight.\", ' Newport was a county borough.', ' The Heckman model falls into this type.', ' The writing lost grain fleet in the rural southwestern corner of St. Catharines.', ' It features a day and night camera and video relay.', ' More modern versions of the tax no longer require an actual stamp.', ' The classification is based on the timing of transcription that is temporarily regulated.', ' He wore a white sitter to dinner.', ' It forms the largest artificial lake in Maui, Lake Manantali.', \" Fox shuffled the show's airtime repeatedly to make room for other shows.\", ' Viner has produced short documentary videos about legal history and comparative law.', ' When the player character touches a monster, they die.', ' The Customs and Border Protection offices recently opened in the easternmost former cargo building.', ' Classmates and friends endowed a scholarship in his name at Carnegie Mellon.', ' This originated in slavery times where slaves were not allowed to play musical instruments.', ' In autumn that year, she made a solo tour with her band in Switzerland.', ' The building houses, classrooms, toilets, showers, and a staff room.', ' She was nicknamed Long Liz.', ' The winners of each pairing, higher than bold, qualify for the following round.', ' Many families have moved into these houses.', ' Fitchell seems likely to have been played with equal numbers on both sides.', ' Air Academy has received national acclaim for its numerous instrumental ensembles.', ' Call the Doctor was written in three weeks and recorded in four days.', ' He retired from basketball after the season.', ' For more details on geological crystal formation, see above.', ' This document shows that the Catholic Church is officially moved to unity.', ' The marriage resulted in a rift between mother and son.', ' Billshare often structures its investment mandates to meet specific objectives.', ' Its supports had to be attached to the Mensa.', ' Fuel was delivered via multiport fuel injection.', ' No tree may be felled on the holy ground.', ' Despite the movement of the Ferd Mines, fighting continued throughout the country.', ' Mr. Mallory was hit by a car on his way to work.', ' It is not thus used in England.', ' Mach-Eldalon production was a result of correcting a dislike of symmetry.', \" Carlson High School's mascot is the senator.\", ' Transport network analysis falls within the field of transport engineering.', ' I will review some of the notable developments in the economy and financial system.', ' Trent manages to secure a small fighter and departs for Severa.', ' People always back up in small country lanes to let you pass.', ' The ancients were also called sorers for their common appearance in the air.', ' This will lead to a more active participation from the patient side.', ' Types with two or three sets of guide cathodes could count in either direction.', ' In Britain, the earliest records of this surname appear mainly in the West Country.', ' This remarkable discovery was unprecedented at the time.', ' Telescopes with apertures of or larger are needed to distinguish structures in the galaxy.', ' It was named Christmas Fairyland.', ' The single storage shed contains blocked arches.', ' It is hosted by Anne-Marie Mediwake and Ben Moroni.', ' Caledonian decided to apply for membership, as did city rivals Inverness Thistle.', ' The longer lines have four accents, and the shorter ones usually only three.', ' This higher level is associated with strong individual approaches to problem solving and creativity.', \" The ending also implies that her strength exceeded Karen's.\", ' The village is open each weekend from May to the end of September.', ' Videographers use nonlinear editing software on home computers.', ' This is a close-up view of the main character currently being played.', ' This institution is a prestigious university in Brazil.', ' The Matilda Tower at Point Clay has been converted into a war museum.', ' Shortly after he signed, the Alouettes folded and the franchise began the Montreal Concords.', ' Vautour is the French word for vulture.', ' He published his earliest works for the cello.', ' First, there is not one standard transcription in use even for standard Arabic.', ' Redmond helicopter arrives on the scene with a film for everyone to watch.', ' However, not merely is there no record of the wedding.', ' The Center does not award graduate degrees.', \" Traffic is really bad today, probably because it's a free day weekend.\", ' Diagnosis is made by Biomicroscopic Examination in the Clinic.', ' Trunking also refers to the connection of switches and circuits within a telephone exchange.', ' Like most of the Batman family, Stephanie Brown has no superhuman powers.', ' Andrew leads a revolt and takes a council member hostage.', ' He suddenly goes into convulsions himself and soon transforms into an alien creature himself.', ' Liberia then liquidated the property of German nationals in Liberia.', ' Despite hard work and rough seas, the ships only found one mine.', ' Því lægileg hér með síx manns íntu fís ríinn.', ' The local council has made concurrent improvement to the surrounding area.', ' Our argument may be briefly indicated in advance as follows.', \" Guinea's World Records considers it a production motorcycle.\", ' Harmonic functions are the classical example to which the strong maximum principle applies.', ' He also wrote an empire of dust about the dust bowl.', ' However, month by month breakdowns for domestic sales of individual car models are available.', \" However, it isn't at all about itself geographically.\", ' It has now ended its third season.', ' The executive wing is headed by the Commissioner.', ' Then one gives rigorous mathematical constructions of examples satisfying these axioms.', ' The Devonport Leet, a man-made water channel, passes nearby.', ' The Ithaca Journal produces a youth-oriented tabloid-sized publication called Buzz every week.', ' It is one of the thinnest steel and concrete towers in the world.', ' As a teenager in St. Louis, Missouri, he played with Charlie Creith.', ' Graduates of the school are prepared to pursue an artistic and theatrical occupation.', ' In contrast, the backwash is dominated by the sheet flow and bed load sediment transport.', ' Silo is served by Silo High School.', ' The drug is administered for 7 to 10 days.', ' The gardens are open to the public daily.', ' Defines the genre.', ' Therefore, the defendants prevailed and did not have to pay.', ' A local woodcutter discovered a stream that ran with fine sake.', ' Katronis was named by Homer.', ' Women competed in the steeplechase for the first time.', ' Poyakov underwent many car accidents before, during and after the flight.', ' A terrorist group called Kryon Lions take control of the space-based laser weapon.', ' They got engaged at Comate George Lodge in Muntumalanga.', ' Vísen sjóðjara karlín var í um ístu fyrir þér.', ' Until his death, Bettelheim lived in Paris.', ' Rain and wind also cause temporal variation to the phyllosphere microbiome.', ' Castles went on to investigate the Lhasa outbreaks in West Africa.', ' He took part in the American War of Independence.', ' They had spent them previous three years in a refugee camp in Sudan.', ' She continues to perform regularly at live venues and appears on television and radio.', ' He was on the post-season roster where he made one appearance without an at-bat.', ' These interactions are joined with other roads.', ' His older brother was film school composer James Horner.', ' The third test was washed out after only three hours play.', ' Six to eight pairs of nerves are formed.', ' Consequently, there are also two types of oats.', ' They also vary in the geometry of the glycosidic linkage.', \" The group was renamed Justice for Kashmir, then renamed People's Justice Party.\", ' They are known to be loud and loud louder than standard hub motor fans.', ' Shops of various offerings and items are also set up for people to buy.', ' At the time, May and Ernest Eilind were living apart.', ' The district government originally opposed the construction of the museum.', ' His son was taken by one of his ministers and hidden.', ' Prior to incorporation, the town was known as Blaisdell Town.', ' The Kata Center also collaborates with other public and private organizations', ' This is a very simple model of how whole conduction works.', ' The process of induction relies entirely on members proposing new members.', ' Macroecology approaches the idea of studying ecosystems using a top-down approach.', ' She wraps the baby in a shawl and leaves the house.', ' In addition, many can, in theory, support an unlimited number of species.', \" Watch on your joke, iPhone news, I can't.\", ' To the east of the hills found an Iron Age earthwork.', ' A nighttime version of concentration took over its time slot the following week.', ' Sen remained with the club for another season.', ' In each case, the adaptation was scripted by Binder and drawn by Joe Orlando.', ' The dog jumped for joy at the sight of her owner.', ' His younger brother Arl trained as an ophthalmologist.', ' The upper house is the senate.', ' The Japanese bombing raids were also fiercely contested, sometimes with significant Japanese losses.', ' As the family argues, Lucy slips out unnoticed, unsure of her future.', ' It is brown and green algae, the water plant, and the substrate is overgrown.', ' Bacteria probably have the largest capacity to utilize amino acids.', ' She has also played for the Los Angeles Temptation in the Legends Football League.', ' He achieved the rank of Colonel and died in London.', ' But the bride is nowhere to be found.', ' These do not require a marriage license.', ' He was especially interested in Middle Eastern history and the Jewish remarks.', ' Likewise, others also feature one stone.', ' Bye then, strike forward.', ' Within each queue, packets are forwarded based on first-in-first-out basis.', ' Some of the suspects in the shooting are still at large.', ' IAB completed the occupation of Rewin land by capturing Hadar in the Bakul region.', ' It was located in the city of Edmonton in the province of Alberta.', ' He died in Tampa, Florida and was buried in the Roseland Cemetery of Monticello.', ' He later played for Old Han.', ' Not all cyclists were competing for the victory, some only joined as tourists.', ' Then the columns are permitted and then the rows are permitted.', \" My Google's research has also included computer architecture, computer security, and hardware software code design.\", ' The theory of buildings has important obligations in several rather disparate fields.', ' Rabal is reported to donate all proceeds from the book to charity.', ' The judge are not given any brand information.', ' Born in Chicago, Illinois, Thomas grew up in Pittsburgh, Pennsylvania.', ' She divorced to Garson, whom she married in London, to Mary Bear.', ' Large amounts of animal habitat was destroyed.', ' The museum will sit on and has been given a building.', ' The remaining plays of the Tetralogy have been mostly lost.', ' The album also peaked at number 6 in Germany, but was certified gold there.', ' The cartridge is intended for a large and dangerous game.', ' This was achieved due to the steadfast dedication of Doig and Jafari.', ' The game was released under different titles in each region.', ' Byrne attended the Baltimore City College High School and Wake Forest College.', ' The district is located in the middle part of the Black Forest Mountains.', ' He has two daughters, Lexi and Maya.', ' Sharp contrast in the edges of the letters are also featured throughout his artwork.', ' This virtually guaranteed a death sentence.', ' He was educated at an Anglican school and was apprenticed as a cabinet maker.', ' Tatars were also deported from Crimea.', ' He was the father of Norazin and Yoritsun.', ' He is married to Kristen Gore.', ' Victoria won the inaugural event.', ' He colored the box in with diagonal stripes.', ' His brother Justin also played basketball at Boulder Creek High School.', ' We are hosting some new events from now.', ' His dad was heartbroken.', ' Most of these families come from Goose Creek Township.', ' The former City Hall is now the North York Civic Center.', ' Solidarity was also declared a legal organization.', \" McDonald's announced they were looking into possible copyright infringement of the name.\", ' It was originally recorded by LaFace Records artist Sam Salter.', ' Vectored Vaccines is another next generation vaccine.', ' Subsequent withdrawals by Chinese skaters were also replaced by Italian skaters.', ' He has contributed importantly to the history and origin of the modern Malay language.', ' Surrounding villages are copy Thorn to the northeast and Bartley to the southeast.', ' He arrived in the town immediately after its capture by the Royal Serbian army.', ' It is the county seat of Trimble County.', ' From those we then tried to get a contradiction.', ' He may be regarded as one of the founders of petrographical science.', ' Users can then use content filtering software to censor various types of content.', ' This can be shown by assigning two distinct numerical values to the dichotomous variable.', ' It is the headquarters of Thunderland City Council.', ' Its seat is located in the town of Mora.', ' Doc lives in St. Clair, Michigan with his wife, Joyce.', ' The Allen area was previously home to the Caddo Comanche and other indigenous peoples.', ' when quinn mentioned that he was drawn to acting wright encouraged him', ' He later would invite Adam Lazara to join the band.', ' The following is the Serbia roster in the Olympic qualifying tournament.', ' Subscribers received a disk with the scenario files already created.', ' Finus Ockham and Scotus wrote commentaries on On Interpretation.', ' However, Thornley severed his connection with Better Place only three months later.', ' Applicants must have resided in the country for five years.', ' Under the current system, supervisors are elected by district to four-year terms.', ' The same principle is taken to an extreme in I-beams.', ' In Germanic mythology, Eilren is the wife of Agilaz, the legendary archer.', ' He regularly visited Krause for advice.', ' Thus, Maximin in the original position represents a formulation of social equality.', ' He was a property consultant with a real estate firm before entering politics.', \" The latter became the costliest hurricane in Maine's history.\", ' Production has many functions and diversity is the foundation of such production.', ' It is an Eastern Iranian language belonging to the Indo-European family.', ' Some would say progressive rock at its best.', ' This is perhaps a mitigation of an older sentence of death by drowning.', ' The village is served by Gilfok Fargoed Railway Station.', ' McCall has pioneered cancer immunotherapies for children.', ' An outspoken girl who was mistreated by Neil.', ' They found the answer to be in the affirmative.', ' In American football, midfield refers to the halfway line.', ' Saudi Arabia entered one Karateka into the inaugural Olympic tournament.', ' By measuring the diameter of the ring, its total age could be estimated.', ' Kerner was particularly active in the fields of phytogeography and phytosociology.', ' The National Assembly has the power to remove government ministers from their post.', ' The board appealed the decision to the Supreme Court.', ' The city of Medford lies mostly within the town boundaries.', ' Movie Guide rates movies for both quality and acceptability.', ' Whitewash is based on the same chemistry.', ' It merged with Cleveland scene.', ' The associated steam raising plant and hydraulic pumps have been removed.', ' In the jungle, Lyra is affected by the deadly disease and shortly dies.', ' Miriam read also, obliterating herself.', ' She earned a Golden Globe Award nomination for the role.', ' He has continued his career by appearing in various cinema and television productions.', ' In the 19th century, Plainville was served by the Farmington Canal.', ' Fortunately for patients afflicted with parosmia, symptoms usually decrease with time.', ' Another anglization was pick of where.', ' In parliamentary elections in September, the party won four seats.', ' to upgrade the standard of education in Pakistan.', ' Only Shi Kasina and Shi Kriana, who were visiting West Germany, escaped.', ' The unincorporated community of West Almond is located in the town.', ' A positive result would be the jerking of the foot towards its plantar surface.', ' The Slow Media is a media empire in the East, Switzerland.', ' Such rides were the precursor of the modern log ride amusement park attractions.', ' Modern doubled dyes in American coinage are being discovered mainly in Lincoln sense.', ' He also encouraged development of the mining industry and commerce.', ' Users at home of the underdogs gave Treasure Cove.', ' Their hostess, who had initially denied their presence, was charged with harboring traitors.', ' He then studied dentistry in Freiburg and Munich.', ' Here it comes!', ' These weapons were used in the shock and awe phase of the Iraq War.', ' There are also corner shops on the estates.', \" The suicide of Judas is an execution in which Bezelbub performs the hangman's duty.\", ' Stone never married.', ' He toured Fiji and Tonga with England later that year.', ' He was later selected by the Conservatives as a European parliamentary candidate.', ' The Luck of the Roaring Camp is a short story by American author Bret Hart.', ' He is married to the former Nancy Dorn.', ' This event is known in paleontology as the Great American Interchange.', ' Like all test coins, the platinum farthing has a high historic and numismatic value.', ' Danny runs in to help him, but is too late.', ' An abbreviated English translation was also made from the Latin by purchase.', ' This started the coaching revolution.', ' Bergamot contains extremely large amounts of polyphenols as compared to other citrus species.', ' The end of the play was indicated by the closing of the front curtain.', ' The unit served in the Bristow campaign.', ' Many such harbors are rios.', ' In France, he broke the world record and he received a financial bonus.', ' He later assisted to create numerous organizations to preserve the culture of Nepal.', ' Clements Junior High School', ' The tax was unique in several respects.', ' Other names more rarely used include Downy Ash, Swamp Ash, and Water Ash.', ' The blazon of the Municipal Coat of Arms is Argent A. Cauldron Ghouls.', ' They had a fight in front of the class.', ' Soon after, Concepcion followed the mother figure of merengue, Mili Quesada.', \" Boomsong's younger brother, Yannick Boomsong, is also a professional footballer.\", ' The lieutenant governor is also limited to two consecutive four-year terms.', ' The City later issued a statement reversing their interpretation of the sign regulations.', ' In addition, tutorials, state-of-the-art surveys, and hot topics are increasingly being included.', ' It is designed for civilian use.', ' Support for his cause quickly grew.', ' She was also the first Latina to graduate from Loyola Law School.', ' The commercial species of pistachio has larger fruits and is edible.', ' This arrangement did not last very long.', ' Most of his albums are mounted in accordion fashion.', ' Crews expected to complete one lift each week.', ' Students began attending classes in the new building when they returned from spring break.', ' Guest political analysts include educators, lobbyists, and former legislators.', ' After the war, some of the statues were brought back to Hong Kong.', ' Shiloh was once a stop on the old Winchester and Western Railroad.', ' After that time, he represented the riding of Vancouver Quadra until his defeat.', ' Gilbert has one son and two grandchildren.', ' He was interred in Somerville Cemetery in Augusta, Georgia.', ' Kudrow was raised in a middle-class Jewish family and had a bat mitzvah ceremony.', ' Kenyon was an officer in the British Indian Army.', ' The prize has been called the Nobel Prize of Music in Sweden.', \" We've been stuck in the queue by those roadworks for ages.\", ' Then the actual Kringle Throw starts.', ' The pool is an outdoor pool and is managed by the Caveside Recreation Committee.', ' Samuel English was born in the hamlet of Crebolia in Agaddawe, Northern Ireland.', ' 24 of her crew were killed or missing and 9 wounded.', ' It targets a young readership and is owned and managed by Diligent Media Corporation.', ' Weeks is an American political scientist.', ' Love rearranged parts of the song melodically and used entirely different lyrics.', \" April goes door to door searching for Warren's residence.\", ' It uses radio waves to ionize and heat a propellant.', ' This is the last season to be aired in standard definition.', ' Channel Geldam, I came via train.', \" Projectro's attitude has become increasingly cold, detached, and almost selfish in nature.\", ' When Galan finds out, it is already too late, and the damage is irrevocable.', ' Coons is married and has three sons.', ' The town is home to Genesee Country Village and Museum.', ' Yes, it was Downey.', ' Q values are also featured in particle physics.', ' Representatives from the Treasury may attend the meeting, but only as non-voting observers.', ' You might be interested in that.', ' Contemporary reviewers often alluded to these sounds.', ' She had only a very small fleet and did not provide long-haul routes.', ' Episodes of the series were also released in a Japanese LaserDisc set.']\n"
          ]
        }
      ],
      "source": [
        "# Extracting Pickle Data\n",
        "\n",
        "import pickle\n",
        "with open('/content/Transcribed_Sentences (1).pkl', 'rb') as f:\n",
        "    data = pickle.load(f)\n",
        "\n",
        "english_sentences = [item['text'] for item in data]\n",
        "\n",
        "print(english_sentences)"
      ]
    },
    {
      "cell_type": "code",
      "execution_count": 15,
      "metadata": {
        "id": "Q7lvtvcxbGEE"
      },
      "outputs": [],
      "source": [
        "# Model calling\n",
        "\n",
        "from transformers import MarianMTModel, MarianTokenizer\n",
        "\n",
        "# Load the model and tokenizer\n",
        "model_name = \"Helsinki-NLP/opus-mt-en-ar\"\n",
        "tokenizer = MarianTokenizer.from_pretrained(model_name)\n",
        "model = MarianMTModel.from_pretrained(model_name)\n",
        "\n",
        "\n",
        "\n",
        "\n",
        "# Translating\n",
        "\n",
        "arabic_sentences = english_sentences.copy()\n",
        "index = 0\n",
        "for sentence in english_sentences:\n",
        "  input_ids = tokenizer(sentence, return_tensors=\"pt\").input_ids\n",
        "  output_ids = model.generate(input_ids)\n",
        "  translated_sentence = tokenizer.decode(output_ids[0], skip_special_tokens=True)\n",
        "  arabic_sentences[index] = translated_sentence\n",
        "  index += 1\n",
        "\n"
      ]
    },
    {
      "cell_type": "code",
      "execution_count": 16,
      "metadata": {
        "id": "byMXcxA0sSyQ"
      },
      "outputs": [],
      "source": [
        "# Saving Data\n",
        "\n",
        "import pandas as pd\n",
        "df = pd.DataFrame({'English': english_sentences, 'Arabic': arabic_sentences})\n",
        "df.to_csv('Translated_data.csv', index=False)"
      ]
    },
    {
      "cell_type": "code",
      "execution_count": 17,
      "metadata": {
        "colab": {
          "base_uri": "https://localhost:8080/"
        },
        "id": "7uY1F9t1xN-C",
        "outputId": "a35ffaf5-951f-4317-dcb2-34291da88793"
      },
      "outputs": [
        {
          "name": "stdout",
          "output_type": "stream",
          "text": [
            "English     The single storage shed contains blocked arches.\n",
            "Arabic          غرفة التخزين الواحدة تحتوي على مقصورات مقفلة\n",
            "Name: 50, dtype: object\n"
          ]
        }
      ],
      "source": [
        "# Investiagte Translated Data\n",
        "print(df.iloc[50])"
      ]
    },
    {
      "cell_type": "code",
      "execution_count": null,
      "metadata": {
        "id": "cqM0M64excfB"
      },
      "outputs": [],
      "source": []
    }
  ],
  "metadata": {
    "colab": {
      "provenance": []
    },
    "kernelspec": {
      "display_name": "Python 3",
      "name": "python3"
    },
    "language_info": {
      "name": "python"
    }
  },
  "nbformat": 4,
  "nbformat_minor": 0
}
