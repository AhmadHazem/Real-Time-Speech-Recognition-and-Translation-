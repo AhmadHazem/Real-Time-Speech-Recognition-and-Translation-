{
  "cells": [
    {
      "cell_type": "markdown",
      "metadata": {
        "id": "OXaUqiE-eyXM"
      },
      "source": [
        "# Whisper v3 is here!\n",
        "\n",
        "Whisper v3 is a new model open sourced by OpenAI. The model can do multilingual transcriptions and is quite impressive. For example, you can change from English to Spanish or Chinese in the middle of a sentence and it will work well!\n",
        "\n",
        "The model can be run in a free Google Colab instance and is integrated into `transformers` already, so switching can be a very smooth process if you already use the previous versions."
      ]
    },
    {
      "cell_type": "code",
      "execution_count": 1,
      "metadata": {
        "id": "WFQeUT9EcIcK"
      },
      "outputs": [
        {
          "name": "stdout",
          "output_type": "stream",
          "text": [
            "Collecting git+https://github.com/huggingface/transformers\n",
            "  Cloning https://github.com/huggingface/transformers to c:\\users\\blu-ray\\appdata\\local\\temp\\pip-req-build-jqimnzmp\n",
            "  Resolved https://github.com/huggingface/transformers to commit 816f4424964c1a1631e303b663fc3d68f731e923\n",
            "  Installing build dependencies: started\n",
            "  Installing build dependencies: finished with status 'done'\n",
            "  Getting requirements to build wheel: started\n",
            "  Getting requirements to build wheel: finished with status 'done'\n",
            "  Preparing metadata (pyproject.toml): started\n",
            "  Preparing metadata (pyproject.toml): finished with status 'done'\n",
            "Requirement already satisfied: gradio in c:\\users\\blu-ray\\appdata\\local\\programs\\python\\python39\\lib\\site-packages (4.44.1)\n",
            "Requirement already satisfied: filelock in c:\\users\\blu-ray\\appdata\\local\\programs\\python\\python39\\lib\\site-packages (from transformers==4.46.0.dev0) (3.12.3)\n",
            "Requirement already satisfied: huggingface-hub<1.0,>=0.23.2 in c:\\users\\blu-ray\\appdata\\local\\programs\\python\\python39\\lib\\site-packages (from transformers==4.46.0.dev0) (0.25.2)\n",
            "Requirement already satisfied: numpy>=1.17 in c:\\users\\blu-ray\\appdata\\local\\programs\\python\\python39\\lib\\site-packages (from transformers==4.46.0.dev0) (1.24.2)\n",
            "Requirement already satisfied: packaging>=20.0 in c:\\users\\blu-ray\\appdata\\roaming\\python\\python39\\site-packages (from transformers==4.46.0.dev0) (23.0)\n",
            "Requirement already satisfied: pyyaml>=5.1 in c:\\users\\blu-ray\\appdata\\local\\programs\\python\\python39\\lib\\site-packages (from transformers==4.46.0.dev0) (6.0.1)\n",
            "Requirement already satisfied: regex!=2019.12.17 in c:\\users\\blu-ray\\appdata\\local\\programs\\python\\python39\\lib\\site-packages (from transformers==4.46.0.dev0) (2024.9.11)\n",
            "Requirement already satisfied: requests in c:\\users\\blu-ray\\appdata\\local\\programs\\python\\python39\\lib\\site-packages (from transformers==4.46.0.dev0) (2.32.3)\n",
            "Requirement already satisfied: tokenizers<0.21,>=0.20 in c:\\users\\blu-ray\\appdata\\local\\programs\\python\\python39\\lib\\site-packages (from transformers==4.46.0.dev0) (0.20.1)\n",
            "Requirement already satisfied: safetensors>=0.4.1 in c:\\users\\blu-ray\\appdata\\local\\programs\\python\\python39\\lib\\site-packages (from transformers==4.46.0.dev0) (0.4.5)\n",
            "Requirement already satisfied: tqdm>=4.27 in c:\\users\\blu-ray\\appdata\\local\\programs\\python\\python39\\lib\\site-packages (from transformers==4.46.0.dev0) (4.66.5)\n",
            "Requirement already satisfied: aiofiles<24.0,>=22.0 in c:\\users\\blu-ray\\appdata\\local\\programs\\python\\python39\\lib\\site-packages (from gradio) (23.2.1)\n",
            "Requirement already satisfied: anyio<5.0,>=3.0 in c:\\users\\blu-ray\\appdata\\local\\programs\\python\\python39\\lib\\site-packages (from gradio) (4.6.2.post1)\n",
            "Requirement already satisfied: fastapi<1.0 in c:\\users\\blu-ray\\appdata\\local\\programs\\python\\python39\\lib\\site-packages (from gradio) (0.115.2)\n",
            "Requirement already satisfied: ffmpy in c:\\users\\blu-ray\\appdata\\local\\programs\\python\\python39\\lib\\site-packages (from gradio) (0.4.0)\n",
            "Requirement already satisfied: gradio-client==1.3.0 in c:\\users\\blu-ray\\appdata\\local\\programs\\python\\python39\\lib\\site-packages (from gradio) (1.3.0)\n",
            "Requirement already satisfied: httpx>=0.24.1 in c:\\users\\blu-ray\\appdata\\local\\programs\\python\\python39\\lib\\site-packages (from gradio) (0.27.2)\n",
            "Requirement already satisfied: importlib-resources<7.0,>=1.3 in c:\\users\\blu-ray\\appdata\\local\\programs\\python\\python39\\lib\\site-packages (from gradio) (5.12.0)\n",
            "Requirement already satisfied: jinja2<4.0 in c:\\users\\blu-ray\\appdata\\local\\programs\\python\\python39\\lib\\site-packages (from gradio) (3.1.2)\n",
            "Requirement already satisfied: markupsafe~=2.0 in c:\\users\\blu-ray\\appdata\\local\\programs\\python\\python39\\lib\\site-packages (from gradio) (2.1.3)\n",
            "Requirement already satisfied: matplotlib~=3.0 in c:\\users\\blu-ray\\appdata\\local\\programs\\python\\python39\\lib\\site-packages (from gradio) (3.7.1)\n",
            "Requirement already satisfied: orjson~=3.0 in c:\\users\\blu-ray\\appdata\\local\\programs\\python\\python39\\lib\\site-packages (from gradio) (3.10.7)\n",
            "Requirement already satisfied: pandas<3.0,>=1.0 in c:\\users\\blu-ray\\appdata\\local\\programs\\python\\python39\\lib\\site-packages (from gradio) (2.0.1)\n",
            "Requirement already satisfied: pillow<11.0,>=8.0 in c:\\users\\blu-ray\\appdata\\local\\programs\\python\\python39\\lib\\site-packages (from gradio) (9.5.0)\n",
            "Requirement already satisfied: pydantic>=2.0 in c:\\users\\blu-ray\\appdata\\local\\programs\\python\\python39\\lib\\site-packages (from gradio) (2.9.2)\n",
            "Requirement already satisfied: pydub in c:\\users\\blu-ray\\appdata\\local\\programs\\python\\python39\\lib\\site-packages (from gradio) (0.25.1)\n",
            "Requirement already satisfied: python-multipart>=0.0.9 in c:\\users\\blu-ray\\appdata\\local\\programs\\python\\python39\\lib\\site-packages (from gradio) (0.0.12)\n",
            "Requirement already satisfied: ruff>=0.2.2 in c:\\users\\blu-ray\\appdata\\local\\programs\\python\\python39\\lib\\site-packages (from gradio) (0.7.0)\n",
            "Requirement already satisfied: semantic-version~=2.0 in c:\\users\\blu-ray\\appdata\\local\\programs\\python\\python39\\lib\\site-packages (from gradio) (2.10.0)\n",
            "Requirement already satisfied: tomlkit==0.12.0 in c:\\users\\blu-ray\\appdata\\local\\programs\\python\\python39\\lib\\site-packages (from gradio) (0.12.0)\n",
            "Requirement already satisfied: typer<1.0,>=0.12 in c:\\users\\blu-ray\\appdata\\local\\programs\\python\\python39\\lib\\site-packages (from gradio) (0.12.5)\n",
            "Requirement already satisfied: typing-extensions~=4.0 in c:\\users\\blu-ray\\appdata\\local\\programs\\python\\python39\\lib\\site-packages (from gradio) (4.12.2)\n",
            "Requirement already satisfied: urllib3~=2.0 in c:\\users\\blu-ray\\appdata\\local\\programs\\python\\python39\\lib\\site-packages (from gradio) (2.2.3)\n",
            "Requirement already satisfied: uvicorn>=0.14.0 in c:\\users\\blu-ray\\appdata\\local\\programs\\python\\python39\\lib\\site-packages (from gradio) (0.32.0)\n",
            "Requirement already satisfied: fsspec in c:\\users\\blu-ray\\appdata\\local\\programs\\python\\python39\\lib\\site-packages (from gradio-client==1.3.0->gradio) (2023.9.0)\n",
            "Requirement already satisfied: websockets<13.0,>=10.0 in c:\\users\\blu-ray\\appdata\\local\\programs\\python\\python39\\lib\\site-packages (from gradio-client==1.3.0->gradio) (12.0)\n",
            "Requirement already satisfied: idna>=2.8 in c:\\users\\blu-ray\\appdata\\local\\programs\\python\\python39\\lib\\site-packages (from anyio<5.0,>=3.0->gradio) (3.4)\n",
            "Requirement already satisfied: sniffio>=1.1 in c:\\users\\blu-ray\\appdata\\local\\programs\\python\\python39\\lib\\site-packages (from anyio<5.0,>=3.0->gradio) (1.3.1)\n",
            "Requirement already satisfied: exceptiongroup>=1.0.2 in c:\\users\\blu-ray\\appdata\\local\\programs\\python\\python39\\lib\\site-packages (from anyio<5.0,>=3.0->gradio) (1.2.2)\n",
            "Requirement already satisfied: starlette<0.41.0,>=0.37.2 in c:\\users\\blu-ray\\appdata\\local\\programs\\python\\python39\\lib\\site-packages (from fastapi<1.0->gradio) (0.40.0)\n",
            "Requirement already satisfied: certifi in c:\\users\\blu-ray\\appdata\\local\\programs\\python\\python39\\lib\\site-packages (from httpx>=0.24.1->gradio) (2022.12.7)\n",
            "Requirement already satisfied: httpcore==1.* in c:\\users\\blu-ray\\appdata\\local\\programs\\python\\python39\\lib\\site-packages (from httpx>=0.24.1->gradio) (1.0.6)\n",
            "Requirement already satisfied: h11<0.15,>=0.13 in c:\\users\\blu-ray\\appdata\\local\\programs\\python\\python39\\lib\\site-packages (from httpcore==1.*->httpx>=0.24.1->gradio) (0.14.0)\n",
            "Requirement already satisfied: zipp>=3.1.0 in c:\\users\\blu-ray\\appdata\\roaming\\python\\python39\\site-packages (from importlib-resources<7.0,>=1.3->gradio) (3.15.0)\n",
            "Requirement already satisfied: contourpy>=1.0.1 in c:\\users\\blu-ray\\appdata\\local\\programs\\python\\python39\\lib\\site-packages (from matplotlib~=3.0->gradio) (1.0.7)\n",
            "Requirement already satisfied: cycler>=0.10 in c:\\users\\blu-ray\\appdata\\local\\programs\\python\\python39\\lib\\site-packages (from matplotlib~=3.0->gradio) (0.11.0)\n",
            "Requirement already satisfied: fonttools>=4.22.0 in c:\\users\\blu-ray\\appdata\\local\\programs\\python\\python39\\lib\\site-packages (from matplotlib~=3.0->gradio) (4.39.3)\n",
            "Requirement already satisfied: kiwisolver>=1.0.1 in c:\\users\\blu-ray\\appdata\\local\\programs\\python\\python39\\lib\\site-packages (from matplotlib~=3.0->gradio) (1.4.4)\n",
            "Requirement already satisfied: pyparsing>=2.3.1 in c:\\users\\blu-ray\\appdata\\local\\programs\\python\\python39\\lib\\site-packages (from matplotlib~=3.0->gradio) (3.0.9)\n",
            "Requirement already satisfied: python-dateutil>=2.7 in c:\\users\\blu-ray\\appdata\\roaming\\python\\python39\\site-packages (from matplotlib~=3.0->gradio) (2.8.2)\n",
            "Requirement already satisfied: pytz>=2020.1 in c:\\users\\blu-ray\\appdata\\local\\programs\\python\\python39\\lib\\site-packages (from pandas<3.0,>=1.0->gradio) (2023.3)\n",
            "Requirement already satisfied: tzdata>=2022.1 in c:\\users\\blu-ray\\appdata\\local\\programs\\python\\python39\\lib\\site-packages (from pandas<3.0,>=1.0->gradio) (2023.3)\n",
            "Requirement already satisfied: annotated-types>=0.6.0 in c:\\users\\blu-ray\\appdata\\local\\programs\\python\\python39\\lib\\site-packages (from pydantic>=2.0->gradio) (0.7.0)\n",
            "Requirement already satisfied: pydantic-core==2.23.4 in c:\\users\\blu-ray\\appdata\\local\\programs\\python\\python39\\lib\\site-packages (from pydantic>=2.0->gradio) (2.23.4)\n",
            "Requirement already satisfied: colorama in c:\\users\\blu-ray\\appdata\\roaming\\python\\python39\\site-packages (from tqdm>=4.27->transformers==4.46.0.dev0) (0.4.6)\n",
            "Requirement already satisfied: click>=8.0.0 in c:\\users\\blu-ray\\appdata\\local\\programs\\python\\python39\\lib\\site-packages (from typer<1.0,>=0.12->gradio) (8.1.7)\n",
            "Requirement already satisfied: shellingham>=1.3.0 in c:\\users\\blu-ray\\appdata\\local\\programs\\python\\python39\\lib\\site-packages (from typer<1.0,>=0.12->gradio) (1.5.4)\n",
            "Requirement already satisfied: rich>=10.11.0 in c:\\users\\blu-ray\\appdata\\local\\programs\\python\\python39\\lib\\site-packages (from typer<1.0,>=0.12->gradio) (13.9.2)\n",
            "Requirement already satisfied: charset-normalizer<4,>=2 in c:\\users\\blu-ray\\appdata\\local\\programs\\python\\python39\\lib\\site-packages (from requests->transformers==4.46.0.dev0) (3.1.0)\n",
            "Requirement already satisfied: six>=1.5 in c:\\users\\blu-ray\\appdata\\roaming\\python\\python39\\site-packages (from python-dateutil>=2.7->matplotlib~=3.0->gradio) (1.16.0)\n",
            "Requirement already satisfied: markdown-it-py>=2.2.0 in c:\\users\\blu-ray\\appdata\\local\\programs\\python\\python39\\lib\\site-packages (from rich>=10.11.0->typer<1.0,>=0.12->gradio) (3.0.0)\n",
            "Requirement already satisfied: pygments<3.0.0,>=2.13.0 in c:\\users\\blu-ray\\appdata\\roaming\\python\\python39\\site-packages (from rich>=10.11.0->typer<1.0,>=0.12->gradio) (2.14.0)\n",
            "Requirement already satisfied: mdurl~=0.1 in c:\\users\\blu-ray\\appdata\\local\\programs\\python\\python39\\lib\\site-packages (from markdown-it-py>=2.2.0->rich>=10.11.0->typer<1.0,>=0.12->gradio) (0.1.2)\n",
            "Building wheels for collected packages: transformers\n",
            "  Building wheel for transformers (pyproject.toml): started\n",
            "  Building wheel for transformers (pyproject.toml): finished with status 'done'\n",
            "  Created wheel for transformers: filename=transformers-4.46.0.dev0-py3-none-any.whl size=9991917 sha256=ad63aaf442d2aa5151b0780d1a1d4deab93c5606a8a1f3b83a4f860e16f6820f\n",
            "  Stored in directory: C:\\Users\\BLU-RAY\\AppData\\Local\\Temp\\pip-ephem-wheel-cache-0te5vjox\\wheels\\14\\a0\\7b\\8f6b25ba4110aa215fcb8d6aedd6cd4f9b9b6619190999ac2b\n",
            "Successfully built transformers\n",
            "Installing collected packages: transformers\n",
            "  Attempting uninstall: transformers\n",
            "    Found existing installation: transformers 4.45.2\n",
            "    Uninstalling transformers-4.45.2:\n",
            "      Successfully uninstalled transformers-4.45.2\n",
            "Successfully installed transformers-4.46.0.dev0\n"
          ]
        },
        {
          "name": "stderr",
          "output_type": "stream",
          "text": [
            "  Running command git clone --filter=blob:none --quiet https://github.com/huggingface/transformers 'C:\\Users\\BLU-RAY\\AppData\\Local\\Temp\\pip-req-build-jqimnzmp'\n"
          ]
        }
      ],
      "source": [
        "%%capture\n",
        "!pip install git+https://github.com/huggingface/transformers gradio"
      ]
    },
    {
      "cell_type": "markdown",
      "metadata": {
        "id": "sZONes21fHTA"
      },
      "source": [
        "Let's use the high level `pipeline` from the `transformers` library to load the model."
      ]
    },
    {
      "cell_type": "code",
      "execution_count": null,
      "metadata": {
        "colab": {
          "base_uri": "https://localhost:8080/"
        },
        "id": "DvBdwMdPcr-Y",
        "outputId": "47f32218-fd85-49ea-d880-d31577bcf9b8"
      },
      "outputs": [
        {
          "name": "stderr",
          "output_type": "stream",
          "text": [
            "Special tokens have been added in the vocabulary, make sure the associated word embeddings are fine-tuned or trained.\n",
            "Special tokens have been added in the vocabulary, make sure the associated word embeddings are fine-tuned or trained.\n"
          ]
        }
      ],
      "source": [
        "import torch\n",
        "from transformers import pipeline,MarianMTModel, MarianTokenizer\n",
        "\n",
        "pipe = pipeline(\"automatic-speech-recognition\",\n",
        "               \"openai/whisper-large-v3\",\n",
        "               torch_dtype=torch.float16,\n",
        "               device=\"cuda:0\")\n",
        "\n",
        "model_name_translate = \"Helsinki-NLP/opus-mt-en-ar\"\n",
        "tokenizer_translation = MarianTokenizer.from_pretrained(model_name_translate)\n",
        "model_translate = MarianMTModel.from_pretrained(model_name_translate)"
      ]
    },
    {
      "cell_type": "code",
      "execution_count": null,
      "metadata": {
        "colab": {
          "base_uri": "https://localhost:8080/"
        },
        "id": "GZFkIyhjc0Nc",
        "outputId": "f1463431-3e08-4438-815f-b71e5e7a1503"
      },
      "outputs": [
        {
          "data": {
            "text/plain": [
              "{'text': \" going along slushy country roads and speaking to damp audiences in draughty schoolrooms day after day for a fortnight he'll have to put in an appearance at some place of worship on sunday morning and he can come to us immediately afterwards\"}"
            ]
          },
          "execution_count": 2,
          "metadata": {},
          "output_type": "execute_result"
        }
      ],
      "source": [
        "pipe(\"https://cdn-media.huggingface.co/speech_samples/sample1.flac\")"
      ]
    },
    {
      "cell_type": "markdown",
      "metadata": {
        "id": "pt3YtM_PfTQY"
      },
      "source": [
        "Let's now build a quick Gradio demo where we can play with the model directly using our microphone! You can run this code in a Google Colab instance (or locally!) or just head to the <a href=\"https://huggingface.co/spaces/hf-audio/whisper-large-v3\" target=\"_blank\">Space</a> to play directly with it online."
      ]
    },
    {
      "cell_type": "code",
      "execution_count": 4,
      "metadata": {
        "colab": {
          "base_uri": "https://localhost:8080/",
          "height": 648
        },
        "id": "K0b2UZLVdIze",
        "outputId": "bcff00e0-4fc8-4883-9ba4-480f5a6665f0"
      },
      "outputs": [
        {
          "name": "stdout",
          "output_type": "stream",
          "text": [
            "Running on local URL:  http://127.0.0.1:7862\n",
            "\n",
            "To create a public link, set `share=True` in `launch()`.\n"
          ]
        },
        {
          "data": {
            "text/html": [
              "<div><iframe src=\"http://127.0.0.1:7862/\" width=\"100%\" height=\"500\" allow=\"autoplay; camera; microphone; clipboard-read; clipboard-write;\" frameborder=\"0\" allowfullscreen></iframe></div>"
            ],
            "text/plain": [
              "<IPython.core.display.HTML object>"
            ]
          },
          "metadata": {},
          "output_type": "display_data"
        },
        {
          "data": {
            "text/plain": []
          },
          "execution_count": 4,
          "metadata": {},
          "output_type": "execute_result"
        }
      ],
      "source": [
        "import gradio as gr\n",
        "\n",
        "def translate(sentence):\n",
        "    batch = tokenizer_translation([sentence], return_tensors=\"pt\")\n",
        "    generated_ids = model_translate.generate(batch[\"input_ids\"])\n",
        "    text  = tokenizer_translation.batch_decode(generated_ids, skip_special_tokens=True)[0]\n",
        "    return text\n",
        "\n",
        "def transcribe(inputs):\n",
        "    if inputs is None:\n",
        "        raise gr.Error(\"No audio file submitted! Please record an audio before submitting your request.\")\n",
        "\n",
        "    text = pipe(inputs, generate_kwargs={\"task\": \"transcribe\"}, return_timestamps=True)[\"text\"]\n",
        "    text = translate({\"text\": text})\n",
        "    return text\n",
        "\n",
        "demo = gr.Interface(\n",
        "    fn=transcribe,\n",
        "    inputs=[\n",
        "        gr.Audio(sources=[\"microphone\", \"upload\"], type=\"filepath\"),\n",
        "    ],\n",
        "    outputs=\"text\",\n",
        "    title=\"Whisper Large V3: Transcribe Audio\",\n",
        "    description=(\n",
        "        \"Transcribe long-form microphone or audio inputs with the click of a button! Demo uses the\"\n",
        "        \" checkpoint [openai/whisper-large-v3](https://huggingface.co/openai/whisper-large-v3) and 🤗 Transformers to transcribe audio files\"\n",
        "        \" of arbitrary length.\"\n",
        "    ),\n",
        "    allow_flagging=\"never\",\n",
        ")\n",
        "\n",
        "demo.launch()\n"
      ]
    }
  ],
  "metadata": {
    "accelerator": "GPU",
    "colab": {
      "gpuType": "T4",
      "provenance": []
    },
    "kernelspec": {
      "display_name": "Python 3",
      "name": "python3"
    },
    "language_info": {
      "codemirror_mode": {
        "name": "ipython",
        "version": 3
      },
      "file_extension": ".py",
      "mimetype": "text/x-python",
      "name": "python",
      "nbconvert_exporter": "python",
      "pygments_lexer": "ipython3",
      "version": "3.9.5"
    }
  },
  "nbformat": 4,
  "nbformat_minor": 0
}
